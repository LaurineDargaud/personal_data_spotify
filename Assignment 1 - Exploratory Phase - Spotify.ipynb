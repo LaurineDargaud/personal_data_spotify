{
 "cells": [
  {
   "cell_type": "markdown",
   "id": "58d83dd8",
   "metadata": {},
   "source": [
    "# Personal Informatics - Assignment | Spotify Data\n",
    "\n",
    "Interesting:\n",
    "- plot listening based on time (time in day, in year, in month, in week)\n",
    "- get music style and plot it based on time\n",
    "- what do I listen to the most? Which artist? Which title?\n",
    "- Frequency of listening for most listened tracks\n",
    "\n",
    "Understanding Spotify data : https://support.spotify.com/us/article/understanding-my-data/"
   ]
  },
  {
   "cell_type": "code",
   "execution_count": 421,
   "id": "5b2bc75b",
   "metadata": {},
   "outputs": [],
   "source": [
    "import pandas as pd\n",
    "import matplotlib.pyplot as plt\n",
    "import seaborn as sns\n",
    "import numpy as np\n",
    "import collections\n",
    "import urllib.parse\n",
    "import json"
   ]
  },
  {
   "cell_type": "markdown",
   "id": "3e04b9f4",
   "metadata": {},
   "source": [
    "## Load and pre-process data"
   ]
  },
  {
   "cell_type": "code",
   "execution_count": 2,
   "id": "cc635d1b",
   "metadata": {},
   "outputs": [
    {
     "data": {
      "text/html": [
       "<div>\n",
       "<style scoped>\n",
       "    .dataframe tbody tr th:only-of-type {\n",
       "        vertical-align: middle;\n",
       "    }\n",
       "\n",
       "    .dataframe tbody tr th {\n",
       "        vertical-align: top;\n",
       "    }\n",
       "\n",
       "    .dataframe thead th {\n",
       "        text-align: right;\n",
       "    }\n",
       "</style>\n",
       "<table border=\"1\" class=\"dataframe\">\n",
       "  <thead>\n",
       "    <tr style=\"text-align: right;\">\n",
       "      <th></th>\n",
       "      <th>endTime</th>\n",
       "      <th>artistName</th>\n",
       "      <th>trackName</th>\n",
       "      <th>msPlayed</th>\n",
       "    </tr>\n",
       "  </thead>\n",
       "  <tbody>\n",
       "    <tr>\n",
       "      <th>0</th>\n",
       "      <td>2020-09-05 15:44</td>\n",
       "      <td>Allie X</td>\n",
       "      <td>Super Duper Party People</td>\n",
       "      <td>144170</td>\n",
       "    </tr>\n",
       "    <tr>\n",
       "      <th>1</th>\n",
       "      <td>2021-02-03 12:48</td>\n",
       "      <td>Infected Mushroom</td>\n",
       "      <td>Flamingo</td>\n",
       "      <td>244194</td>\n",
       "    </tr>\n",
       "    <tr>\n",
       "      <th>2</th>\n",
       "      <td>2021-02-03 23:07</td>\n",
       "      <td>Guns N' Roses</td>\n",
       "      <td>Welcome To The Jungle</td>\n",
       "      <td>53665</td>\n",
       "    </tr>\n",
       "  </tbody>\n",
       "</table>\n",
       "</div>"
      ],
      "text/plain": [
       "            endTime         artistName                 trackName  msPlayed\n",
       "0  2020-09-05 15:44            Allie X  Super Duper Party People    144170\n",
       "1  2021-02-03 12:48  Infected Mushroom                  Flamingo    244194\n",
       "2  2021-02-03 23:07      Guns N' Roses     Welcome To The Jungle     53665"
      ]
     },
     "execution_count": 2,
     "metadata": {},
     "output_type": "execute_result"
    }
   ],
   "source": [
    "# load spotify history\n",
    "df = pd.read_json('data/spotify/StreamingHistory0.json')\n",
    "df = pd.concat([df, pd.read_json('data/spotify/StreamingHistory1.json')])\n",
    "df = pd.concat([df, pd.read_json('data/spotify/StreamingHistory2.json')])\n",
    "df.head(3)"
   ]
  },
  {
   "cell_type": "code",
   "execution_count": 3,
   "id": "497c54ff",
   "metadata": {},
   "outputs": [],
   "source": [
    "# convert the 'endTime' column to datetime format\n",
    "df['endTime'] = pd.to_datetime(df['endTime'])"
   ]
  },
  {
   "cell_type": "code",
   "execution_count": 4,
   "id": "ea7fef1e",
   "metadata": {},
   "outputs": [],
   "source": [
    "# convert the 'msPlayed' column to timedelta format\n",
    "df['timePlayed'] = pd.to_timedelta(df['msPlayed'], unit='ms')"
   ]
  },
  {
   "cell_type": "code",
   "execution_count": 5,
   "id": "94f42e0e",
   "metadata": {},
   "outputs": [],
   "source": [
    "# add time spent in different units\n",
    "df['minPlayed'] = df['msPlayed']//(1000*60)\n",
    "df['hPlayed'] = df['msPlayed']/(1000*60*60)"
   ]
  },
  {
   "cell_type": "code",
   "execution_count": 6,
   "id": "cffa239a",
   "metadata": {},
   "outputs": [],
   "source": [
    "# add 'startTime' column\n",
    "df['startTime_exact'] = df.endTime - df.timePlayed\n",
    "# add 'startTime_round' to round on minute\n",
    "df['startTime'] = df['startTime_exact'].round('min')"
   ]
  },
  {
   "cell_type": "code",
   "execution_count": 7,
   "id": "ac4fe65c",
   "metadata": {},
   "outputs": [],
   "source": [
    "# add date time column for filtering\n",
    "df['year'] = pd.DatetimeIndex(df['startTime']).year\n",
    "df['month'] = pd.DatetimeIndex(df['startTime']).month\n",
    "df['weekday'] = pd.DatetimeIndex(df['startTime']).weekday\n",
    "df['hour'] = pd.DatetimeIndex(df['startTime']).hour\n",
    "df['day'] = pd.DatetimeIndex(df['startTime']).floor('D')"
   ]
  },
  {
   "cell_type": "markdown",
   "id": "7724ea05",
   "metadata": {},
   "source": [
    "I clean the data:\n",
    "- just one line in 2020 => drop it\n",
    "- be sure I only have one month per year of data (avoid doubles data across two years)"
   ]
  },
  {
   "cell_type": "code",
   "execution_count": 8,
   "id": "f802c7f7",
   "metadata": {},
   "outputs": [],
   "source": [
    "# drop 2020 data\n",
    "df = df.drop(df[df.year == 2020].index,axis=0)"
   ]
  },
  {
   "cell_type": "code",
   "execution_count": 9,
   "id": "a65e7bc3",
   "metadata": {},
   "outputs": [
    {
     "data": {
      "text/plain": [
       "2021    1670\n",
       "2022     454\n",
       "Name: year, dtype: int64"
      ]
     },
     "execution_count": 9,
     "metadata": {},
     "output_type": "execute_result"
    }
   ],
   "source": [
    "# conclusion = we keep 2021 data for February\n",
    "df[df.month == 2].year.value_counts()"
   ]
  },
  {
   "cell_type": "code",
   "execution_count": 10,
   "id": "ef2e80bd",
   "metadata": {},
   "outputs": [],
   "source": [
    "df = df.drop(df[(df.year == 2022) & (df.month == 2)].index, axis=0)"
   ]
  },
  {
   "cell_type": "code",
   "execution_count": 11,
   "id": "e73b234a",
   "metadata": {},
   "outputs": [],
   "source": [
    "for m in range(1,13):\n",
    "    assert len(df[df.month == 2].year.unique())==1"
   ]
  },
  {
   "cell_type": "code",
   "execution_count": 12,
   "id": "86bebd2b",
   "metadata": {},
   "outputs": [],
   "source": [
    "# sort by startTime\n",
    "df = df.sort_values('startTime_exact')"
   ]
  },
  {
   "cell_type": "code",
   "execution_count": 13,
   "id": "6482710d",
   "metadata": {},
   "outputs": [
    {
     "name": "stdout",
     "output_type": "stream",
     "text": [
      "Start = 2021-02-03\n",
      "End = 2022-01-31\n"
     ]
    }
   ],
   "source": [
    "startDate = df.startTime.values[0]\n",
    "endDate = df.startTime.values[-1]\n",
    "print('Start = {}'.format(np.datetime_as_string(startDate, unit='D')))\n",
    "print('End = {}'.format(np.datetime_as_string(endDate, unit='D')))"
   ]
  },
  {
   "cell_type": "raw",
   "id": "de68152c",
   "metadata": {},
   "source": [
    "# EXPORT\n",
    "df.to_csv('data/spotify/my_spotify_history.csv')"
   ]
  },
  {
   "cell_type": "markdown",
   "id": "7a875198",
   "metadata": {},
   "source": [
    "**>>> About time: from February 2021 to January 2022 (all included)**"
   ]
  },
  {
   "cell_type": "markdown",
   "id": "c8f0b086",
   "metadata": {},
   "source": [
    "## Basic visualisations"
   ]
  },
  {
   "cell_type": "code",
   "execution_count": 422,
   "id": "e278b8cf",
   "metadata": {},
   "outputs": [
    {
     "data": {
      "text/plain": [
       "Index(['endTime', 'artistName', 'trackName', 'msPlayed', 'timePlayed',\n",
       "       'minPlayed', 'hPlayed', 'startTime_exact', 'startTime', 'year', 'month',\n",
       "       'weekday', 'hour', 'day'],\n",
       "      dtype='object')"
      ]
     },
     "execution_count": 422,
     "metadata": {},
     "output_type": "execute_result"
    }
   ],
   "source": [
    "# recall of columns name\n",
    "df.columns"
   ]
  },
  {
   "cell_type": "code",
   "execution_count": 437,
   "id": "ceadcf25",
   "metadata": {},
   "outputs": [
    {
     "name": "stdout",
     "output_type": "stream",
     "text": [
      "In a year (Feb 2021 to Jan 2022), I listened to 23943 tracks on Spotify.\n",
      "It represents 1235 hours.\n",
      "More precisely, I listened to 7787 unique tracks e.g. 33% of all listened tracks.\n"
     ]
    }
   ],
   "source": [
    "# how many tracks and hours spent on the last passed year\n",
    "nb_tracks = len(df)\n",
    "nb_hours = np.sum(df.timePlayed.values).astype('timedelta64[h]')\n",
    "print(f\"In a year (Feb 2021 to Jan 2022), I listened to {nb_tracks} tracks on Spotify.\")\n",
    "print(f\"It represents {nb_hours}.\")\n",
    "\n",
    "# how many different tracks\n",
    "nb_unique_tracks = len(df[['artistName','trackName']].drop_duplicates())\n",
    "print(f\"More precisely, I listened to {nb_unique_tracks} unique tracks e.g. {round(100*nb_unique_tracks/nb_tracks)}% of all listened tracks.\")"
   ]
  },
  {
   "cell_type": "markdown",
   "id": "d68f4384",
   "metadata": {},
   "source": [
    "# Connect to Spotify API"
   ]
  },
  {
   "cell_type": "markdown",
   "id": "37e6b107",
   "metadata": {},
   "source": [
    "Based on https://towardsdatascience.com/visualizing-spotify-data-with-python-tableau-687f2f528cdd and https://medium.com/swlh/build-spotify-playlist-using-machine-learning-45352975d2ee\n",
    "\n",
    "Spotify Dev Dashboard: https://developer.spotify.com/dashboard\n",
    "\n",
    "Request Python doc : https://docs.python-requests.org/en/latest/user/quickstart/#make-a-request"
   ]
  },
  {
   "cell_type": "code",
   "execution_count": 81,
   "id": "204049fb",
   "metadata": {},
   "outputs": [],
   "source": [
    "# save your IDs from new project in Spotify Developer Dashboard\n",
    "CLIENT_ID = \n",
    "CLIENT_SECRET = "
   ]
  },
  {
   "cell_type": "code",
   "execution_count": 82,
   "id": "3abf44fc",
   "metadata": {},
   "outputs": [],
   "source": [
    "# generate access token\n",
    "\n",
    "import requests\n",
    "\n",
    "# authentication URL\n",
    "AUTH_URL = 'https://accounts.spotify.com/api/token'\n",
    "\n",
    "# POST\n",
    "auth_response = requests.post(AUTH_URL, {\n",
    "    'grant_type': 'client_credentials',\n",
    "    'client_id': CLIENT_ID,\n",
    "    'client_secret': CLIENT_SECRET,\n",
    "})\n",
    "\n",
    "# convert the response to JSON\n",
    "auth_response_data = auth_response.json()\n",
    "\n",
    "# save the access token\n",
    "access_token = auth_response_data['access_token']"
   ]
  },
  {
   "cell_type": "code",
   "execution_count": 83,
   "id": "989c25e3",
   "metadata": {},
   "outputs": [],
   "source": [
    "# used for authenticating all API calls\n",
    "headers = {'Authorization': 'Bearer {token}'.format(token=access_token)}\n",
    "\n",
    "# base URL of all Spotify API endpoints\n",
    "BASE_URL = 'https://api.spotify.com/v1/'"
   ]
  },
  {
   "cell_type": "markdown",
   "id": "d2a9e546",
   "metadata": {},
   "source": [
    "### Fetch data from API"
   ]
  },
  {
   "cell_type": "code",
   "execution_count": 17,
   "id": "80d9a956",
   "metadata": {},
   "outputs": [
    {
     "data": {
      "text/html": [
       "<div>\n",
       "<style scoped>\n",
       "    .dataframe tbody tr th:only-of-type {\n",
       "        vertical-align: middle;\n",
       "    }\n",
       "\n",
       "    .dataframe tbody tr th {\n",
       "        vertical-align: top;\n",
       "    }\n",
       "\n",
       "    .dataframe thead th {\n",
       "        text-align: right;\n",
       "    }\n",
       "</style>\n",
       "<table border=\"1\" class=\"dataframe\">\n",
       "  <thead>\n",
       "    <tr style=\"text-align: right;\">\n",
       "      <th></th>\n",
       "      <th>endTime</th>\n",
       "      <th>artistName</th>\n",
       "      <th>trackName</th>\n",
       "      <th>msPlayed</th>\n",
       "      <th>timePlayed</th>\n",
       "      <th>minPlayed</th>\n",
       "      <th>hPlayed</th>\n",
       "      <th>startTime_exact</th>\n",
       "      <th>startTime</th>\n",
       "      <th>year</th>\n",
       "      <th>month</th>\n",
       "      <th>weekday</th>\n",
       "      <th>hour</th>\n",
       "      <th>day</th>\n",
       "    </tr>\n",
       "  </thead>\n",
       "  <tbody>\n",
       "    <tr>\n",
       "      <th>1</th>\n",
       "      <td>2021-02-03 12:48:00</td>\n",
       "      <td>Infected Mushroom</td>\n",
       "      <td>Flamingo</td>\n",
       "      <td>244194</td>\n",
       "      <td>0 days 00:04:04.194000</td>\n",
       "      <td>4</td>\n",
       "      <td>0.067832</td>\n",
       "      <td>2021-02-03 12:43:55.806</td>\n",
       "      <td>2021-02-03 12:44:00</td>\n",
       "      <td>2021</td>\n",
       "      <td>2</td>\n",
       "      <td>2</td>\n",
       "      <td>12</td>\n",
       "      <td>2021-02-03</td>\n",
       "    </tr>\n",
       "    <tr>\n",
       "      <th>2</th>\n",
       "      <td>2021-02-03 23:07:00</td>\n",
       "      <td>Guns N' Roses</td>\n",
       "      <td>Welcome To The Jungle</td>\n",
       "      <td>53665</td>\n",
       "      <td>0 days 00:00:53.665000</td>\n",
       "      <td>0</td>\n",
       "      <td>0.014907</td>\n",
       "      <td>2021-02-03 23:06:06.335</td>\n",
       "      <td>2021-02-03 23:06:00</td>\n",
       "      <td>2021</td>\n",
       "      <td>2</td>\n",
       "      <td>2</td>\n",
       "      <td>23</td>\n",
       "      <td>2021-02-03</td>\n",
       "    </tr>\n",
       "  </tbody>\n",
       "</table>\n",
       "</div>"
      ],
      "text/plain": [
       "              endTime         artistName              trackName  msPlayed  \\\n",
       "1 2021-02-03 12:48:00  Infected Mushroom               Flamingo    244194   \n",
       "2 2021-02-03 23:07:00      Guns N' Roses  Welcome To The Jungle     53665   \n",
       "\n",
       "              timePlayed  minPlayed   hPlayed         startTime_exact  \\\n",
       "1 0 days 00:04:04.194000          4  0.067832 2021-02-03 12:43:55.806   \n",
       "2 0 days 00:00:53.665000          0  0.014907 2021-02-03 23:06:06.335   \n",
       "\n",
       "            startTime  year  month  weekday  hour        day  \n",
       "1 2021-02-03 12:44:00  2021      2        2    12 2021-02-03  \n",
       "2 2021-02-03 23:06:00  2021      2        2    23 2021-02-03  "
      ]
     },
     "execution_count": 17,
     "metadata": {},
     "output_type": "execute_result"
    }
   ],
   "source": [
    "df.head(2)"
   ]
  },
  {
   "cell_type": "markdown",
   "id": "d51f7aae",
   "metadata": {},
   "source": [
    "#### 1. Get the genre of artists\n",
    "\n",
    "Spotify associates artists with given genres, not tracks."
   ]
  },
  {
   "cell_type": "code",
   "execution_count": 29,
   "id": "93e14174",
   "metadata": {},
   "outputs": [],
   "source": [
    "# fetch all artists\n",
    "all_artists = df.artistName.unique()"
   ]
  },
  {
   "cell_type": "code",
   "execution_count": 34,
   "id": "eb25fc4b",
   "metadata": {},
   "outputs": [
    {
     "data": {
      "text/plain": [
       "3134"
      ]
     },
     "execution_count": 34,
     "metadata": {},
     "output_type": "execute_result"
    }
   ],
   "source": [
    "len(all_artists)"
   ]
  },
  {
   "cell_type": "code",
   "execution_count": null,
   "id": "be1c8fd5",
   "metadata": {},
   "outputs": [],
   "source": [
    "artists_fail = []\n",
    "artists_genres = {}\n",
    "artists_ids = {}\n",
    "i=0"
   ]
  },
  {
   "cell_type": "code",
   "execution_count": 35,
   "id": "f31ecb2e",
   "metadata": {},
   "outputs": [
    {
     "name": "stdout",
     "output_type": "stream",
     "text": [
      "2500\n",
      "2600\n",
      "NOT FOUND: A Little Kiss and Tell: The Podcast\n",
      "NOT FOUND: La Fabrique de l'espace\n",
      "2700\n",
      "2800\n",
      "2900\n",
      "3000\n",
      "NOT FOUND: Sébastien Patoche\n",
      "3100\n"
     ]
    }
   ],
   "source": [
    "for anArtist in all_artists:\n",
    "    if not (anArtist in list(artists_genres.keys())+artists_fail):\n",
    "        i+=1\n",
    "        if (i%100==0):\n",
    "            print(i)\n",
    "        r = requests.get(BASE_URL + 'search', headers=headers, params={\"type\":\"artist\", \"q\":anArtist}).json()\n",
    "        if (len(r['artists']['items'])>0):\n",
    "            found=False\n",
    "            for found_item in r['artists']['items']:\n",
    "                if (found_item['name'] == anArtist):\n",
    "                    artists_genres[anArtist]=found_item['genres']\n",
    "                    artists_ids[anArtist]=found_item['id']\n",
    "                    found=True\n",
    "                    break\n",
    "            if (not found):\n",
    "                artists_fail.append(anArtist)\n",
    "                print('NOT MATCH:', found_item['name'], 'with', anArtist)\n",
    "        else:\n",
    "            artists_fail.append(anArtist)\n",
    "            print('NOT FOUND:', anArtist)"
   ]
  },
  {
   "cell_type": "code",
   "execution_count": 405,
   "id": "06dabf65",
   "metadata": {},
   "outputs": [],
   "source": [
    "# create a artists dataframe\n",
    "df_artists = pd.DataFrame(list(artists_genres.keys()), columns=['artistName'])\n",
    "df_artists['genres'] = \"\"\n",
    "df_artists['artistId'] = \"\"\n",
    "\n",
    "for anArtist, associated_genres in artists_genres.items():\n",
    "    index = df_artists[df_artists.artistName == anArtist].index\n",
    "    df_artists.loc[index, 'artistId'] = artists_ids[anArtist]\n",
    "    df_artists.loc[index, 'genres'] = str(associated_genres)"
   ]
  },
  {
   "cell_type": "code",
   "execution_count": 406,
   "id": "fcb1019c",
   "metadata": {},
   "outputs": [],
   "source": [
    "# add recognized podcasts as podcast genre\n",
    "all_podcasts = ['Un podcast à soi', 'Les Couilles sur la table', 'Les actus du jour - Hugo Décrypte', 'FT News Briefing', 'The Economist Podcasts', 'Global News Podcast', 'TED Talks Daily', '2 Heures De Perdues', 'Mythes et Légendes', 'Une vie plus saine & sereine', 'Choses à Savoir', 'Choses à Savoir TECH', 'La Matinée Est Tienne', 'Virgo Today', 'Weekly Motivation by Ben Lionel Scott', 'Today in Focus', 'La Série sur le Gâteau ', 'Maintenant Vous Savez - Culture', \"L'ARNAQUE\", 'Making Gay History | LGBTQ Oral Histories from the Archive', \"GAMERS, l'histoire secrète des jeux vidéo\", 'A Voix Haute', 'Philosophy is Sexy', 'L’Heure du Monde', '1001 Classic Short Stories & Tales', 'Listen To Sleep - Quiet Bedtime Stories & Sleep Meditations', 'Just Sleep - Bedtime Stories for Adults', 'CONTES SCP - Au-delà des archives', 'Adoprixtoxis', 'Clyde Vanilla (série audio)', 'A suivre', \"Au cœur de l'histoire \", 'A Little Kiss and Tell: The Podcast', \"La Fabrique de l'espace\"]\n",
    "\n",
    "df_podcasts = pd.DataFrame(all_podcasts, columns=['artistName'])\n",
    "df_podcasts['genres'] = [str(['podcast']) for _ in range (len(df_podcasts))]\n",
    "df_podcasts['artistId'] = \"\""
   ]
  },
  {
   "cell_type": "code",
   "execution_count": 407,
   "id": "314316c0",
   "metadata": {},
   "outputs": [],
   "source": [
    "# fusion\n",
    "df_artists = df_artists.append(df_podcasts, ignore_index=True)"
   ]
  },
  {
   "cell_type": "code",
   "execution_count": 408,
   "id": "dd1d0df4",
   "metadata": {},
   "outputs": [
    {
     "data": {
      "text/html": [
       "<div>\n",
       "<style scoped>\n",
       "    .dataframe tbody tr th:only-of-type {\n",
       "        vertical-align: middle;\n",
       "    }\n",
       "\n",
       "    .dataframe tbody tr th {\n",
       "        vertical-align: top;\n",
       "    }\n",
       "\n",
       "    .dataframe thead th {\n",
       "        text-align: right;\n",
       "    }\n",
       "</style>\n",
       "<table border=\"1\" class=\"dataframe\">\n",
       "  <thead>\n",
       "    <tr style=\"text-align: right;\">\n",
       "      <th></th>\n",
       "      <th>artistName</th>\n",
       "      <th>genres</th>\n",
       "      <th>artistId</th>\n",
       "    </tr>\n",
       "  </thead>\n",
       "  <tbody>\n",
       "    <tr>\n",
       "      <th>0</th>\n",
       "      <td>Infected Mushroom</td>\n",
       "      <td>['psychedelic trance']</td>\n",
       "      <td>6S2tas4z6DyIklBajDqJxI</td>\n",
       "    </tr>\n",
       "    <tr>\n",
       "      <th>1</th>\n",
       "      <td>Guns N' Roses</td>\n",
       "      <td>['glam metal', 'hard rock', 'rock']</td>\n",
       "      <td>3qm84nBOXUEQ2vnTfUTTFC</td>\n",
       "    </tr>\n",
       "    <tr>\n",
       "      <th>2</th>\n",
       "      <td>Astrix</td>\n",
       "      <td>['full on', 'nitzhonot', 'psychedelic trance']</td>\n",
       "      <td>3dUltShd2gJQc98Kc7Syit</td>\n",
       "    </tr>\n",
       "    <tr>\n",
       "      <th>3</th>\n",
       "      <td>Fatal Bazooka</td>\n",
       "      <td>['chanson paillarde', 'comic', 'francoton', 'f...</td>\n",
       "      <td>5oDxGfxYaJkfp6xZlXQnr8</td>\n",
       "    </tr>\n",
       "    <tr>\n",
       "      <th>4</th>\n",
       "      <td>Max Boublil</td>\n",
       "      <td>['chanson paillarde', 'francoton', 'french pop']</td>\n",
       "      <td>1Vf8pNhIprjjtrLAiVPzfh</td>\n",
       "    </tr>\n",
       "    <tr>\n",
       "      <th>...</th>\n",
       "      <td>...</td>\n",
       "      <td>...</td>\n",
       "      <td>...</td>\n",
       "    </tr>\n",
       "    <tr>\n",
       "      <th>3122</th>\n",
       "      <td>Clyde Vanilla (série audio)</td>\n",
       "      <td>['podcast']</td>\n",
       "      <td></td>\n",
       "    </tr>\n",
       "    <tr>\n",
       "      <th>3123</th>\n",
       "      <td>A suivre</td>\n",
       "      <td>['podcast']</td>\n",
       "      <td></td>\n",
       "    </tr>\n",
       "    <tr>\n",
       "      <th>3124</th>\n",
       "      <td>Au cœur de l'histoire</td>\n",
       "      <td>['podcast']</td>\n",
       "      <td></td>\n",
       "    </tr>\n",
       "    <tr>\n",
       "      <th>3125</th>\n",
       "      <td>A Little Kiss and Tell: The Podcast</td>\n",
       "      <td>['podcast']</td>\n",
       "      <td></td>\n",
       "    </tr>\n",
       "    <tr>\n",
       "      <th>3126</th>\n",
       "      <td>La Fabrique de l'espace</td>\n",
       "      <td>['podcast']</td>\n",
       "      <td></td>\n",
       "    </tr>\n",
       "  </tbody>\n",
       "</table>\n",
       "<p>3127 rows × 3 columns</p>\n",
       "</div>"
      ],
      "text/plain": [
       "                               artistName  \\\n",
       "0                       Infected Mushroom   \n",
       "1                           Guns N' Roses   \n",
       "2                                  Astrix   \n",
       "3                           Fatal Bazooka   \n",
       "4                             Max Boublil   \n",
       "...                                   ...   \n",
       "3122          Clyde Vanilla (série audio)   \n",
       "3123                             A suivre   \n",
       "3124               Au cœur de l'histoire    \n",
       "3125  A Little Kiss and Tell: The Podcast   \n",
       "3126              La Fabrique de l'espace   \n",
       "\n",
       "                                                 genres  \\\n",
       "0                                ['psychedelic trance']   \n",
       "1                   ['glam metal', 'hard rock', 'rock']   \n",
       "2        ['full on', 'nitzhonot', 'psychedelic trance']   \n",
       "3     ['chanson paillarde', 'comic', 'francoton', 'f...   \n",
       "4      ['chanson paillarde', 'francoton', 'french pop']   \n",
       "...                                                 ...   \n",
       "3122                                        ['podcast']   \n",
       "3123                                        ['podcast']   \n",
       "3124                                        ['podcast']   \n",
       "3125                                        ['podcast']   \n",
       "3126                                        ['podcast']   \n",
       "\n",
       "                    artistId  \n",
       "0     6S2tas4z6DyIklBajDqJxI  \n",
       "1     3qm84nBOXUEQ2vnTfUTTFC  \n",
       "2     3dUltShd2gJQc98Kc7Syit  \n",
       "3     5oDxGfxYaJkfp6xZlXQnr8  \n",
       "4     1Vf8pNhIprjjtrLAiVPzfh  \n",
       "...                      ...  \n",
       "3122                          \n",
       "3123                          \n",
       "3124                          \n",
       "3125                          \n",
       "3126                          \n",
       "\n",
       "[3127 rows x 3 columns]"
      ]
     },
     "execution_count": 408,
     "metadata": {},
     "output_type": "execute_result"
    }
   ],
   "source": [
    "df_artists"
   ]
  },
  {
   "cell_type": "code",
   "execution_count": 409,
   "id": "ab18581c",
   "metadata": {},
   "outputs": [
    {
     "data": {
      "text/plain": [
       "3134"
      ]
     },
     "execution_count": 409,
     "metadata": {},
     "output_type": "execute_result"
    }
   ],
   "source": [
    "len(df_artists.artistName.values)+len(artists_fail)"
   ]
  },
  {
   "cell_type": "code",
   "execution_count": 410,
   "id": "429d472e",
   "metadata": {},
   "outputs": [
    {
     "data": {
      "text/plain": [
       "3134"
      ]
     },
     "execution_count": 410,
     "metadata": {},
     "output_type": "execute_result"
    }
   ],
   "source": [
    "len(all_artists)"
   ]
  },
  {
   "cell_type": "raw",
   "id": "395b999c",
   "metadata": {},
   "source": [
    "# artists_fail = [x for x in artists_fail if x not in all_podcasts]\n",
    "artists_fail"
   ]
  },
  {
   "cell_type": "code",
   "execution_count": 411,
   "id": "94b58031",
   "metadata": {},
   "outputs": [],
   "source": [
    "# add number of played artist\n",
    "df_artists['nbPlayed'] = [len(df[df.artistName == artist]) for artist in df_artists.artistName]"
   ]
  },
  {
   "cell_type": "code",
   "execution_count": 412,
   "id": "fa269da8",
   "metadata": {},
   "outputs": [],
   "source": [
    "# add time played per artist\n",
    "df_artists['timePlayed'] = [np.sum(df[df.artistName == artist].timePlayed) for artist in df_artists.artistName]"
   ]
  },
  {
   "cell_type": "markdown",
   "id": "818e7676",
   "metadata": {},
   "source": [
    "**Which genre do we have to focus on?**"
   ]
  },
  {
   "cell_type": "code",
   "execution_count": 413,
   "id": "bb480df5",
   "metadata": {},
   "outputs": [],
   "source": [
    "all_genres = list(set([item for sublist in artists_genres.values() for item in sublist]))"
   ]
  },
  {
   "cell_type": "code",
   "execution_count": 414,
   "id": "6f74ea4b",
   "metadata": {},
   "outputs": [
    {
     "name": "stdout",
     "output_type": "stream",
     "text": [
      "Based on timePlayed:\n",
      "[\"['acidcore']\"\n",
      " \"['deep minimal techno', 'high-tech minimal', 'minimal techno', 'new french touch', 'tropical house']\"\n",
      " \"['dark disco', 'electro-pop francais', 'french indie pop', 'french indietronica', 'new french touch']\"\n",
      " '[]' \"['chillsynth', 'spacewave', 'synthwave']\" '[]' \"['podcast']\"\n",
      " \"['psychedelic trance']\" \"['modern rock', 'permanent wave', 'rock']\"\n",
      " \"['electronica', 'minimal melodic techno', 'minimal techno', 'new french touch', 'tropical house']\"\n",
      " \"['indie folk', 'new americana', 'progressive bluegrass', 'stomp and flutter', 'stomp and holler']\"\n",
      " \"['german dance', 'hamburg electronic', 'livetronica']\" \"['rap calme']\"\n",
      " \"['french hip hop', 'old school rap francais', 'rap conscient']\"\n",
      " \"['chamber pop']\"\n",
      " \"['alternative rock', 'blues rock', 'garage rock', 'modern blues rock', 'modern rock', 'punk blues', 'rock', 'roots rock']\"\n",
      " \"['art pop', 'dance pop', 'pop']\" '[]' \"['french folk pop']\" \"['comic']\"]\n",
      "\n",
      "\n",
      "Based on artists genre occurences:\n",
      "18 ['rock', 'modern rock', 'pop', 'dance pop', 'neo-classical', 'french indie pop', 'edm', 'new french touch', 'french pop', 'pop dance', 'french indietronica', 'pop rock', 'modern alternative rock', 'tropical house', 'alternative rock', 'chanson', 'electro house', 'indie rock', 'classic rock', 'indie pop', 'electronica', 'french rock', 'soundtrack', 'chamber pop', 'mellow gold', 'indie folk', 'stomp and holler', 'soul', 'art pop', 'soft rock', 'folk rock', 'synthwave', 'electropop', 'album rock', 'minimal techno', 'house', 'alternative dance', 'permanent wave', 'francoton', 'new wave pop', 'scorecore', 'tech house', 'new rave', 'funk', 'art rock', 'french hip hop', 'compositional ambient', 'adult standards', 'indie soul', 'pop rap', 'brill building pop', 'europop', 'otacore', 'folk', 'hard rock', 'psychedelic rock', 'filter house', 'new wave', 'orchestral soundtrack', 'post-teen pop', 'roots rock', 'indie poptimism', 'pony', 'modern blues rock', 'alt z', 'new americana', 'new romantic', 'blues rock', 'chillsynth', 'neo soul', 'motown', 'background jazz', 'singer-songwriter', 'country rock', 'garage rock', 'rap', 'vocal jazz', 'britpop', 'classic soul', 'video game music', 'freak folk', 'rap calme', 'lounge', 'pop edm', 'nouvelle chanson francaise', 'disco house', 'synthpop', 'microhouse', 'classic soundtrack', 'melancholia', 'pop urbaine', 'baroque pop', 'neo mellow', 'classical', 'quiet storm', 'indietronica', 'alternative metal', 'dark techno', 'deep euro house', 'nu jazz']\n"
     ]
    }
   ],
   "source": [
    "# get an idea of most listened genres\n",
    "print('Based on timePlayed:')\n",
    "print(df_artists.sort_values('timePlayed',ascending=False).genres.values[:20])\n",
    "\n",
    "print('\\n\\nBased on artists genre occurences:')\n",
    "genres_counter = collections.Counter([item for sublist in artists_genres.values() for item in sublist])\n",
    "genres_counter = dict(sorted(genres_counter.items(), key=lambda x:x[1], reverse=True))\n",
    "limit = 100\n",
    "print(list(genres_counter.values())[limit], list(genres_counter.keys())[:limit])"
   ]
  },
  {
   "cell_type": "code",
   "execution_count": 415,
   "id": "7c5f6232",
   "metadata": {},
   "outputs": [],
   "source": [
    "# manual genre replacement\n",
    "df_artists.loc[df_artists[df_artists.artistName=='Maxime Verdoni'].index, 'genres'] = str(['neo-classical'])\n",
    "df_artists.loc[df_artists[df_artists.artistName=='Alexandre Astier'].index, 'genres'] = str(['soundtrack','orchestral sountrack'])\n",
    "df_artists.loc[df_artists[df_artists.artistName=='Peder B. Helland'].index, 'genres'] = str(['compositional ambient'])\n",
    "df_artists.loc[df_artists[df_artists.artistName=='Abr.'].index, 'genres'] = str(['techno','house'])\n",
    "df_artists.loc[df_artists[df_artists.artistName=='Predacid'].index, 'genres'] = str(['techno','acidcore','trance','house'])\n",
    "df_artists.loc[df_artists[df_artists.artistName=='Jon Bovi'].index, 'genres'] = str(['electro house','synthwave'])\n",
    "df_artists.loc[df_artists[df_artists.artistName=='Winstonw'].index, 'genres'] = str(['synthwave'])\n",
    "df_artists.loc[df_artists[df_artists.artistName=='Florent Dorin'].index, 'genres'] = str(['french'])\n",
    "df_artists.loc[df_artists[df_artists.artistName=='CO&XIST'].index, 'genres'] = str(['techno','acidcore'])\n",
    "df_artists.loc[df_artists[df_artists.artistName=='Compilation Générique TV'].index, 'genres'] = str(['soundtrack'])\n",
    "df_artists.loc[df_artists[df_artists.artistName=='John Eyzen'].index, 'genres'] = str(['french'])"
   ]
  },
  {
   "cell_type": "code",
   "execution_count": 416,
   "id": "194a3d09",
   "metadata": {},
   "outputs": [
    {
     "data": {
      "text/html": [
       "<div>\n",
       "<style scoped>\n",
       "    .dataframe tbody tr th:only-of-type {\n",
       "        vertical-align: middle;\n",
       "    }\n",
       "\n",
       "    .dataframe tbody tr th {\n",
       "        vertical-align: top;\n",
       "    }\n",
       "\n",
       "    .dataframe thead th {\n",
       "        text-align: right;\n",
       "    }\n",
       "</style>\n",
       "<table border=\"1\" class=\"dataframe\">\n",
       "  <thead>\n",
       "    <tr style=\"text-align: right;\">\n",
       "      <th></th>\n",
       "      <th>artistName</th>\n",
       "      <th>genres</th>\n",
       "      <th>artistId</th>\n",
       "      <th>nbPlayed</th>\n",
       "      <th>timePlayed</th>\n",
       "    </tr>\n",
       "  </thead>\n",
       "  <tbody>\n",
       "    <tr>\n",
       "      <th>2071</th>\n",
       "      <td>Kenneth Pattengale &amp; Joey Ryan</td>\n",
       "      <td>[]</td>\n",
       "      <td>7m8wSQRZkjgoPYXNPMRgVS</td>\n",
       "      <td>32</td>\n",
       "      <td>0 days 02:22:10.849000</td>\n",
       "    </tr>\n",
       "    <tr>\n",
       "      <th>920</th>\n",
       "      <td>Unknown Artist</td>\n",
       "      <td>[]</td>\n",
       "      <td>74Ch11L4833kZ9VfyziR3K</td>\n",
       "      <td>68</td>\n",
       "      <td>0 days 01:57:08.648000</td>\n",
       "    </tr>\n",
       "    <tr>\n",
       "      <th>2374</th>\n",
       "      <td>Babasmas</td>\n",
       "      <td>[]</td>\n",
       "      <td>0vngS6bj2tYZMff6ASijx2</td>\n",
       "      <td>37</td>\n",
       "      <td>0 days 01:53:13.131000</td>\n",
       "    </tr>\n",
       "    <tr>\n",
       "      <th>2322</th>\n",
       "      <td>Tip Stevens</td>\n",
       "      <td>[]</td>\n",
       "      <td>0dDbdyjsq9HEPNKPyNElgd</td>\n",
       "      <td>21</td>\n",
       "      <td>0 days 01:40:09.797000</td>\n",
       "    </tr>\n",
       "    <tr>\n",
       "      <th>2377</th>\n",
       "      <td>Timothé Douart</td>\n",
       "      <td>[]</td>\n",
       "      <td>0pqsdoAtaeIn6QzTVGV8jR</td>\n",
       "      <td>28</td>\n",
       "      <td>0 days 01:40:06.203000</td>\n",
       "    </tr>\n",
       "  </tbody>\n",
       "</table>\n",
       "</div>"
      ],
      "text/plain": [
       "                          artistName genres                artistId  nbPlayed  \\\n",
       "2071  Kenneth Pattengale & Joey Ryan     []  7m8wSQRZkjgoPYXNPMRgVS        32   \n",
       "920                   Unknown Artist     []  74Ch11L4833kZ9VfyziR3K        68   \n",
       "2374                        Babasmas     []  0vngS6bj2tYZMff6ASijx2        37   \n",
       "2322                     Tip Stevens     []  0dDbdyjsq9HEPNKPyNElgd        21   \n",
       "2377                  Timothé Douart     []  0pqsdoAtaeIn6QzTVGV8jR        28   \n",
       "\n",
       "                 timePlayed  \n",
       "2071 0 days 02:22:10.849000  \n",
       "920  0 days 01:57:08.648000  \n",
       "2374 0 days 01:53:13.131000  \n",
       "2322 0 days 01:40:09.797000  \n",
       "2377 0 days 01:40:06.203000  "
      ]
     },
     "execution_count": 416,
     "metadata": {},
     "output_type": "execute_result"
    }
   ],
   "source": [
    "df_artists[df_artists.genres=='[]'].sort_values('timePlayed',ascending=False).head()"
   ]
  },
  {
   "cell_type": "markdown",
   "id": "e0f1ff16",
   "metadata": {},
   "source": [
    "https://tahaashtiani.com/spotify-taste-and-predicting-song-genres"
   ]
  },
  {
   "cell_type": "code",
   "execution_count": 417,
   "id": "63a2104c",
   "metadata": {},
   "outputs": [],
   "source": [
    "# interesting genres\n",
    "focus_genres = {\n",
    "    'rock':[],\n",
    "    'techno':['acidcore'],\n",
    "    'edm':[],\n",
    "    'french':['français'],\n",
    "    'pop':['electropop'],\n",
    "    'rap':[],\n",
    "    'minimal':[],\n",
    "    'house':[],\n",
    "    'dance':[],\n",
    "    'synthwave':['spacewave'],\n",
    "    'electro':['electronica','electropop','indietronica'],\n",
    "    'indie':[],\n",
    "    'neo-classical':[],\n",
    "    'soundtrack':[],\n",
    "    'podcast':[]\n",
    "}"
   ]
  },
  {
   "cell_type": "code",
   "execution_count": 449,
   "id": "e531202d",
   "metadata": {},
   "outputs": [
    {
     "name": "stdout",
     "output_type": "stream",
     "text": [
      "['rock', 'techno', 'edm', 'french', 'pop', 'rap', 'minimal', 'house', 'dance', 'synthwave', 'electro', 'indie', 'neo-classical', 'soundtrack', 'podcast']\n"
     ]
    }
   ],
   "source": [
    "print(list(focus_genres.keys()))"
   ]
  },
  {
   "cell_type": "code",
   "execution_count": 441,
   "id": "b67ad985",
   "metadata": {},
   "outputs": [],
   "source": [
    "# add a binary column for each artist\n",
    "\n",
    "def match_genres(aRow, aListOfKeywords, column_name):\n",
    "    if len(aRow.genres)>0:\n",
    "        found_genres = ast.literal_eval(aRow.genres)\n",
    "        found_genres = ' '.join(found_genres).split(' ')\n",
    "        if list(set(aListOfKeywords).intersection(found_genres)) != []:\n",
    "            #print(aRow.artistName, found_genres, aListOfKeywords)\n",
    "            return 1\n",
    "    return 0\n",
    "\n",
    "for aGenre, theKeywords in focus_genres.items():\n",
    "    all_keywords = [aGenre]+theKeywords\n",
    "    column_name = 'is_'+aGenre\n",
    "    df_artists[column_name] = df_artists.apply((lambda x: match_genres(x, all_keywords, column_name)),axis=1)"
   ]
  },
  {
   "cell_type": "raw",
   "id": "17b55f4f",
   "metadata": {},
   "source": [
    "df_artists[df_artists.is_edm==1].artistName.values"
   ]
  },
  {
   "cell_type": "code",
   "execution_count": 442,
   "id": "5c90ecc4",
   "metadata": {},
   "outputs": [
    {
     "name": "stdout",
     "output_type": "stream",
     "text": [
      "23943 23943\n"
     ]
    }
   ],
   "source": [
    "df_wGenre = df.merge(df_artists, how='left', right_on='artistName', left_on='artistName')\n",
    "print(len(df),len(df_wGenre))"
   ]
  },
  {
   "cell_type": "code",
   "execution_count": 443,
   "id": "58fca291",
   "metadata": {},
   "outputs": [],
   "source": [
    "# EXPORT with genres\n",
    "df_wGenre.to_csv('data/spotify/my_spotify_history.csv')"
   ]
  },
  {
   "cell_type": "code",
   "execution_count": 447,
   "id": "3c3fb382",
   "metadata": {},
   "outputs": [
    {
     "data": {
      "text/plain": [
       "Index(['endTime', 'artistName', 'trackName', 'msPlayed', 'timePlayed_x',\n",
       "       'minPlayed', 'hPlayed', 'startTime_exact', 'startTime', 'year', 'month',\n",
       "       'weekday', 'hour', 'day', 'genres', 'artistId', 'nbPlayed',\n",
       "       'timePlayed_y', 'is_rock', 'is_techno', 'is_edm', 'is_french', 'is_pop',\n",
       "       'is_rap', 'is_minimal', 'is_house', 'is_dance', 'is_synthwave',\n",
       "       'is_electro', 'is_indie', 'is_neo-classical', 'is_soundtrack',\n",
       "       'is_podcast'],\n",
       "      dtype='object')"
      ]
     },
     "execution_count": 447,
     "metadata": {},
     "output_type": "execute_result"
    }
   ],
   "source": [
    "df_wGenre.columns"
   ]
  },
  {
   "cell_type": "markdown",
   "id": "019485d7",
   "metadata": {},
   "source": [
    "#### Add Spotify Track ID [ABORT]"
   ]
  },
  {
   "cell_type": "markdown",
   "id": "22d337df",
   "metadata": {},
   "source": [
    "First, add the known ids from my library (`YourLibrary.json`)"
   ]
  },
  {
   "cell_type": "code",
   "execution_count": null,
   "id": "6c955e65",
   "metadata": {},
   "outputs": [],
   "source": [
    "with open('data/spotify/YourLibrary.json', encoding='utf-8') as f:\n",
    "    myLibrary = json.load(f)"
   ]
  },
  {
   "cell_type": "code",
   "execution_count": null,
   "id": "844c43d0",
   "metadata": {},
   "outputs": [],
   "source": [
    "# load lib in dataframe\n",
    "df_lib = pd.DataFrame(myLibrary['tracks'])\n",
    "df_lib.head()"
   ]
  },
  {
   "cell_type": "code",
   "execution_count": null,
   "id": "157b84ae",
   "metadata": {},
   "outputs": [],
   "source": [
    "# create id column from uri\n",
    "\n",
    "df_lib['id'] = [None for _ in range (len(df_lib))]\n",
    "\n",
    "def get_id(aRow):\n",
    "    aRow.id = aRow.uri.split('track:')[1]\n",
    "    \n",
    "_ = df_lib.apply(get_id, axis=1)\n",
    "\n",
    "df_lib.head()"
   ]
  },
  {
   "cell_type": "code",
   "execution_count": null,
   "id": "9152599f",
   "metadata": {},
   "outputs": [],
   "source": [
    "# create df_uniques\n",
    "df_uniques = df[['artistName','trackName']].drop_duplicates()\n",
    "df_uniques['id'] = [None for _ in range (len(df_uniques))]"
   ]
  },
  {
   "cell_type": "code",
   "execution_count": null,
   "id": "c8892f39",
   "metadata": {},
   "outputs": [],
   "source": [
    "# merge df_uniques and df_lib for common ids\n",
    "df_uniques = df_uniques.merge(df_lib[['artist','track','id']],left_on = ['artistName', 'trackName'], right_on = ['artist','track'],how='left').drop(['artist','track','id_x'], axis=1)\n",
    "df_uniques.columns = ['artistName','trackName','id']\n",
    "df_uniques.head()"
   ]
  },
  {
   "cell_type": "code",
   "execution_count": null,
   "id": "f6563334",
   "metadata": {},
   "outputs": [],
   "source": [
    "#344\n",
    "df_uniques.id.isna().sum()"
   ]
  },
  {
   "cell_type": "code",
   "execution_count": null,
   "id": "32efc175",
   "metadata": {},
   "outputs": [],
   "source": [
    "not_found = []\n",
    "\n",
    "def search_id(aRow):\n",
    "    if (str(aRow.id) == 'nan'):\n",
    "        anArtist, aTrack = aRow.artistName, aRow.trackName\n",
    "        q = aTrack+' '+anArtist\n",
    "        # q = urllib.parse.quote(q)\n",
    "        r = requests.get(BASE_URL + 'search', headers=headers, params={\"type\":\"track\", \"q\":q}).json()\n",
    "        if len(r['tracks']['items'])>0:\n",
    "            trackId = r['tracks']['items'][0]['id']\n",
    "            aRow.id = trackId\n",
    "        else:\n",
    "            print('NOT FOUND: ', anArtist, '>>>', aTrack)\n",
    "            not_found.append([anArtist, aTrack])\n",
    "\n",
    "_ = df_uniques.apply(search_id, axis=1)"
   ]
  },
  {
   "cell_type": "code",
   "execution_count": null,
   "id": "62bfe5ef",
   "metadata": {},
   "outputs": [],
   "source": [
    "# search for \"not found\" tracks\n",
    "not_found"
   ]
  },
  {
   "cell_type": "code",
   "execution_count": null,
   "id": "9601e16c",
   "metadata": {},
   "outputs": [],
   "source": [
    "# to csv\n",
    "df_uniques.to_csv('data/spotify/my_unique_history.csv')"
   ]
  },
  {
   "cell_type": "code",
   "execution_count": null,
   "id": "1b637e44",
   "metadata": {},
   "outputs": [],
   "source": [
    "r = requests.get(BASE_URL + 'search', headers=headers, params={\"type\":\"track\", \"q\":\"Fatal Bazooka\"})\n",
    "r = r.json()\n",
    "[r['tracks']['items'][i]['name'] for i in range (len(r['tracks']['items']))]"
   ]
  },
  {
   "cell_type": "code",
   "execution_count": null,
   "id": "ae137bea",
   "metadata": {},
   "outputs": [],
   "source": [
    "aTrackID = \"6YTjVxF1fksayDXOo53N4x\"\n",
    "r = requests.get(BASE_URL + 'tracks/'+aTrackID, headers=headers)\n",
    "r = r.json()\n",
    "print(r['name'])\n",
    "print(r['artists'][0]['name'])"
   ]
  },
  {
   "cell_type": "code",
   "execution_count": null,
   "id": "0019b16b",
   "metadata": {},
   "outputs": [],
   "source": [
    "r = requests.get(BASE_URL + 'audio-features', headers=headers, params={\"ids\":aTrackID})\n",
    "r = r.json()\n",
    "r"
   ]
  }
 ],
 "metadata": {
  "kernelspec": {
   "display_name": "Python 3 (ipykernel)",
   "language": "python",
   "name": "python3"
  },
  "language_info": {
   "codemirror_mode": {
    "name": "ipython",
    "version": 3
   },
   "file_extension": ".py",
   "mimetype": "text/x-python",
   "name": "python",
   "nbconvert_exporter": "python",
   "pygments_lexer": "ipython3",
   "version": "3.8.8"
  }
 },
 "nbformat": 4,
 "nbformat_minor": 5
}
